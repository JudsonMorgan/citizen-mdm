{
 "cells": [
  {
   "cell_type": "code",
   "execution_count": 4,
   "id": "7cf95b8e",
   "metadata": {},
   "outputs": [
    {
     "name": "stdout",
     "output_type": "stream",
     "text": [
      "JSON files generated successfully!\n"
     ]
    }
   ],
   "source": [
    "from faker import Faker\n",
    "import json\n",
    "import random\n",
    "\n",
    "fake = Faker()\n",
    "Faker.seed(42) \n",
    "\n",
    "def generate_health_data(num_records):\n",
    "    health_data = []\n",
    "    \n",
    "    # Ensure unique citizen IDs by using range()\n",
    "    citizen_ids = list(range(1, num_records + 1))\n",
    "    random.shuffle(citizen_ids)  # Shuffle to add randomness\n",
    "    \n",
    "    for i in range(num_records):\n",
    "        health_data.append({\n",
    "            \"citizen_id\": citizen_ids[i],  # Use unique ID from shuffled list\n",
    "            \"name\": fake.name(),\n",
    "            \"dob\": fake.date_of_birth(minimum_age=18, maximum_age=90).isoformat(),\n",
    "            \"gender\": random.choice([\"Male\", \"Female\"]),\n",
    "            \"health_status\": random.choice([\"Healthy\", \"Sick\", \"Critical\"])\n",
    "        })\n",
    "    \n",
    "    return health_data\n",
    "\n",
    "def generate_education_data(num_records):\n",
    "    education_data = []\n",
    "    \n",
    "    citizen_ids = list(range(1, num_records + 1))\n",
    "    random.shuffle(citizen_ids)\n",
    "    \n",
    "    for i in range(num_records):\n",
    "        education_data.append({\n",
    "            \"citizen_id\": citizen_ids[i],  # Use unique ID from shuffled list\n",
    "            \"name\": fake.name(),\n",
    "            \"dob\": fake.date_of_birth(minimum_age=18, maximum_age=90).isoformat(),\n",
    "            \"gender\": random.choice([\"Male\", \"Female\"]),\n",
    "            \"school_name\": fake.company()\n",
    "        })\n",
    "    \n",
    "    return education_data\n",
    "\n",
    "# Save JSON files\n",
    "with open(\"health.json\", \"w\") as f:\n",
    "    json.dump(generate_health_data(100000), f, indent=4)\n",
    "\n",
    "with open(\"education.json\", \"w\") as f:\n",
    "    json.dump(generate_education_data(100000), f, indent=4)\n",
    "\n",
    "print(\"JSON files generated successfully!\")\n"
   ]
  },
  {
   "cell_type": "code",
   "execution_count": null,
   "id": "b6dbb25b",
   "metadata": {},
   "outputs": [],
   "source": []
  }
 ],
 "metadata": {
  "kernelspec": {
   "display_name": "Python 3.10.9 ('envs')",
   "language": "python",
   "name": "python3"
  },
  "language_info": {
   "codemirror_mode": {
    "name": "ipython",
    "version": 3
   },
   "file_extension": ".py",
   "mimetype": "text/x-python",
   "name": "python",
   "nbconvert_exporter": "python",
   "pygments_lexer": "ipython3",
   "version": "3.10.9"
  },
  "vscode": {
   "interpreter": {
    "hash": "dec95e2173b58d2d41d6cdd504dd2b7e06753049f141fc391ed09d7bf5e7332e"
   }
  }
 },
 "nbformat": 4,
 "nbformat_minor": 5
}
